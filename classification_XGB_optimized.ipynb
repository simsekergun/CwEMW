{
 "cells": [
  {
   "cell_type": "code",
   "execution_count": 9,
   "metadata": {
    "tags": []
   },
   "outputs": [
    {
     "name": "stdout",
     "output_type": "stream",
     "text": [
      "Requirement already satisfied: xgboost in /Applications/AnacondaErgun/anaconda3/lib/python3.11/site-packages (2.1.1)\n",
      "Requirement already satisfied: numpy in /Applications/AnacondaErgun/anaconda3/lib/python3.11/site-packages (from xgboost) (1.26.4)\n",
      "Requirement already satisfied: scipy in /Applications/AnacondaErgun/anaconda3/lib/python3.11/site-packages (from xgboost) (1.11.4)\n"
     ]
    }
   ],
   "source": [
    "!pip install xgboost"
   ]
  },
  {
   "cell_type": "code",
   "execution_count": 10,
   "metadata": {
    "id": "VNNazslt3CwH",
    "tags": []
   },
   "outputs": [],
   "source": [
    "# import every we will or we might need\n",
    "import numpy as np\n",
    "import matplotlib.pyplot as plt\n",
    "import pandas as pd\n",
    "from sklearn import metrics\n",
    "from sklearn.model_selection import train_test_split\n",
    "from sklearn.metrics import mean_squared_error\n",
    "from sklearn.metrics import confusion_matrix\n",
    "from sklearn.metrics import classification_report\n",
    "# from google.colab import files\n",
    "import xgboost as xgb\n",
    "from xgboost import XGBClassifier\n",
    "from sklearn.model_selection import GridSearchCV\n",
    "\n",
    "import seaborn as sns\n",
    "import timeit"
   ]
  },
  {
   "cell_type": "code",
   "execution_count": 11,
   "metadata": {
    "id": "dKg812VQ2Ie5",
    "tags": []
   },
   "outputs": [],
   "source": [
    "# X data was large, so it was divided into 60 pieces\n",
    "# call this function to get both X and y\n",
    "def get_CwEMW_data():\n",
    "  y = pd.read_csv('https://raw.githubusercontent.com/simsekergun/CwEMW/main/datasets/Y.csv',header=None)\n",
    "  X01 = pd.read_csv('https://raw.githubusercontent.com/simsekergun/CwEMW/main/datasets/CeEMW01.csv',header=None)\n",
    "  X02 = pd.read_csv('https://raw.githubusercontent.com/simsekergun/CwEMW/main/datasets/CeEMW02.csv',header=None)\n",
    "  X03 = pd.read_csv('https://raw.githubusercontent.com/simsekergun/CwEMW/main/datasets/CeEMW03.csv',header=None)\n",
    "  X04 = pd.read_csv('https://raw.githubusercontent.com/simsekergun/CwEMW/main/datasets/CeEMW04.csv',header=None)\n",
    "  X05 = pd.read_csv('https://raw.githubusercontent.com/simsekergun/CwEMW/main/datasets/CeEMW05.csv',header=None)\n",
    "  X06 = pd.read_csv('https://raw.githubusercontent.com/simsekergun/CwEMW/main/datasets/CeEMW06.csv',header=None)\n",
    "  X07 = pd.read_csv('https://raw.githubusercontent.com/simsekergun/CwEMW/main/datasets/CeEMW07.csv',header=None)\n",
    "  X08 = pd.read_csv('https://raw.githubusercontent.com/simsekergun/CwEMW/main/datasets/CeEMW08.csv',header=None)\n",
    "  X09 = pd.read_csv('https://raw.githubusercontent.com/simsekergun/CwEMW/main/datasets/CeEMW09.csv',header=None)\n",
    "  X10 = pd.read_csv('https://raw.githubusercontent.com/simsekergun/CwEMW/main/datasets/CeEMW10.csv',header=None)\n",
    "  X11 = pd.read_csv('https://raw.githubusercontent.com/simsekergun/CwEMW/main/datasets/CeEMW11.csv',header=None)\n",
    "  X12 = pd.read_csv('https://raw.githubusercontent.com/simsekergun/CwEMW/main/datasets/CeEMW12.csv',header=None)\n",
    "  X13 = pd.read_csv('https://raw.githubusercontent.com/simsekergun/CwEMW/main/datasets/CeEMW13.csv',header=None)\n",
    "  X14 = pd.read_csv('https://raw.githubusercontent.com/simsekergun/CwEMW/main/datasets/CeEMW14.csv',header=None)\n",
    "  X15 = pd.read_csv('https://raw.githubusercontent.com/simsekergun/CwEMW/main/datasets/CeEMW15.csv',header=None)\n",
    "  X16 = pd.read_csv('https://raw.githubusercontent.com/simsekergun/CwEMW/main/datasets/CeEMW16.csv',header=None)\n",
    "  X17 = pd.read_csv('https://raw.githubusercontent.com/simsekergun/CwEMW/main/datasets/CeEMW17.csv',header=None)\n",
    "  X18 = pd.read_csv('https://raw.githubusercontent.com/simsekergun/CwEMW/main/datasets/CeEMW18.csv',header=None)\n",
    "  X19 = pd.read_csv('https://raw.githubusercontent.com/simsekergun/CwEMW/main/datasets/CeEMW19.csv',header=None)\n",
    "  X20 = pd.read_csv('https://raw.githubusercontent.com/simsekergun/CwEMW/main/datasets/CeEMW20.csv',header=None)\n",
    "  X21 = pd.read_csv('https://raw.githubusercontent.com/simsekergun/CwEMW/main/datasets/CeEMW21.csv',header=None)\n",
    "  X22 = pd.read_csv('https://raw.githubusercontent.com/simsekergun/CwEMW/main/datasets/CeEMW22.csv',header=None)\n",
    "  X23 = pd.read_csv('https://raw.githubusercontent.com/simsekergun/CwEMW/main/datasets/CeEMW23.csv',header=None)\n",
    "  X24 = pd.read_csv('https://raw.githubusercontent.com/simsekergun/CwEMW/main/datasets/CeEMW24.csv',header=None)\n",
    "  X25 = pd.read_csv('https://raw.githubusercontent.com/simsekergun/CwEMW/main/datasets/CeEMW25.csv',header=None)\n",
    "  X26 = pd.read_csv('https://raw.githubusercontent.com/simsekergun/CwEMW/main/datasets/CeEMW26.csv',header=None)\n",
    "  X27 = pd.read_csv('https://raw.githubusercontent.com/simsekergun/CwEMW/main/datasets/CeEMW27.csv',header=None)\n",
    "  X28 = pd.read_csv('https://raw.githubusercontent.com/simsekergun/CwEMW/main/datasets/CeEMW28.csv',header=None)\n",
    "  X29 = pd.read_csv('https://raw.githubusercontent.com/simsekergun/CwEMW/main/datasets/CeEMW29.csv',header=None)\n",
    "  X30 = pd.read_csv('https://raw.githubusercontent.com/simsekergun/CwEMW/main/datasets/CeEMW30.csv',header=None)\n",
    "  X31 = pd.read_csv('https://raw.githubusercontent.com/simsekergun/CwEMW/main/datasets/CeEMW31.csv',header=None)\n",
    "  X32 = pd.read_csv('https://raw.githubusercontent.com/simsekergun/CwEMW/main/datasets/CeEMW32.csv',header=None)\n",
    "  X33 = pd.read_csv('https://raw.githubusercontent.com/simsekergun/CwEMW/main/datasets/CeEMW33.csv',header=None)\n",
    "  X34 = pd.read_csv('https://raw.githubusercontent.com/simsekergun/CwEMW/main/datasets/CeEMW34.csv',header=None)\n",
    "  X35 = pd.read_csv('https://raw.githubusercontent.com/simsekergun/CwEMW/main/datasets/CeEMW35.csv',header=None)\n",
    "  X36 = pd.read_csv('https://raw.githubusercontent.com/simsekergun/CwEMW/main/datasets/CeEMW36.csv',header=None)\n",
    "  X37 = pd.read_csv('https://raw.githubusercontent.com/simsekergun/CwEMW/main/datasets/CeEMW37.csv',header=None)\n",
    "  X38 = pd.read_csv('https://raw.githubusercontent.com/simsekergun/CwEMW/main/datasets/CeEMW38.csv',header=None)\n",
    "  X39 = pd.read_csv('https://raw.githubusercontent.com/simsekergun/CwEMW/main/datasets/CeEMW39.csv',header=None)\n",
    "  X40 = pd.read_csv('https://raw.githubusercontent.com/simsekergun/CwEMW/main/datasets/CeEMW40.csv',header=None)\n",
    "  X41 = pd.read_csv('https://raw.githubusercontent.com/simsekergun/CwEMW/main/datasets/CeEMW41.csv',header=None)\n",
    "  X42 = pd.read_csv('https://raw.githubusercontent.com/simsekergun/CwEMW/main/datasets/CeEMW42.csv',header=None)\n",
    "  X43 = pd.read_csv('https://raw.githubusercontent.com/simsekergun/CwEMW/main/datasets/CeEMW43.csv',header=None)\n",
    "  X44 = pd.read_csv('https://raw.githubusercontent.com/simsekergun/CwEMW/main/datasets/CeEMW44.csv',header=None)\n",
    "  X45 = pd.read_csv('https://raw.githubusercontent.com/simsekergun/CwEMW/main/datasets/CeEMW45.csv',header=None)\n",
    "  X46 = pd.read_csv('https://raw.githubusercontent.com/simsekergun/CwEMW/main/datasets/CeEMW46.csv',header=None)\n",
    "  X47 = pd.read_csv('https://raw.githubusercontent.com/simsekergun/CwEMW/main/datasets/CeEMW47.csv',header=None)\n",
    "  X48 = pd.read_csv('https://raw.githubusercontent.com/simsekergun/CwEMW/main/datasets/CeEMW48.csv',header=None)\n",
    "  X49 = pd.read_csv('https://raw.githubusercontent.com/simsekergun/CwEMW/main/datasets/CeEMW49.csv',header=None)\n",
    "  X50 = pd.read_csv('https://raw.githubusercontent.com/simsekergun/CwEMW/main/datasets/CeEMW50.csv',header=None)\n",
    "  X51 = pd.read_csv('https://raw.githubusercontent.com/simsekergun/CwEMW/main/datasets/CeEMW51.csv',header=None)\n",
    "  X52 = pd.read_csv('https://raw.githubusercontent.com/simsekergun/CwEMW/main/datasets/CeEMW52.csv',header=None)\n",
    "  X53 = pd.read_csv('https://raw.githubusercontent.com/simsekergun/CwEMW/main/datasets/CeEMW53.csv',header=None)\n",
    "  X54 = pd.read_csv('https://raw.githubusercontent.com/simsekergun/CwEMW/main/datasets/CeEMW54.csv',header=None)\n",
    "  X55 = pd.read_csv('https://raw.githubusercontent.com/simsekergun/CwEMW/main/datasets/CeEMW55.csv',header=None)\n",
    "  X56 = pd.read_csv('https://raw.githubusercontent.com/simsekergun/CwEMW/main/datasets/CeEMW56.csv',header=None)\n",
    "  X57 = pd.read_csv('https://raw.githubusercontent.com/simsekergun/CwEMW/main/datasets/CeEMW57.csv',header=None)\n",
    "  X58 = pd.read_csv('https://raw.githubusercontent.com/simsekergun/CwEMW/main/datasets/CeEMW58.csv',header=None)\n",
    "  X59 = pd.read_csv('https://raw.githubusercontent.com/simsekergun/CwEMW/main/datasets/CeEMW59.csv',header=None)\n",
    "  X60 = pd.read_csv('https://raw.githubusercontent.com/simsekergun/CwEMW/main/datasets/CeEMW60.csv',header=None)\n",
    "\n",
    "  X0 = pd.concat([X01.iloc[1:,1:], X02.iloc[1:,1:], X03.iloc[1:,1:], X04.iloc[1:,1:], X05.iloc[1:,1:], X06.iloc[1:,1:], X07.iloc[1:,1:], X08.iloc[1:,1:], X09.iloc[1:,1:], X10.iloc[1:,1:],\n",
    "                  X11.iloc[1:,1:], X12.iloc[1:,1:], X13.iloc[1:,1:], X14.iloc[1:,1:], X15.iloc[1:,1:], X16.iloc[1:,1:], X17.iloc[1:,1:], X18.iloc[1:,1:], X19.iloc[1:,1:], X20.iloc[1:,1:],\n",
    "                  X21.iloc[1:,1:], X22.iloc[1:,1:], X23.iloc[1:,1:], X24.iloc[1:,1:], X25.iloc[1:,1:], X26.iloc[1:,1:], X27.iloc[1:,1:], X28.iloc[1:,1:], X29.iloc[1:,1:], X30.iloc[1:,1:],\n",
    "                  X31.iloc[1:,1:], X32.iloc[1:,1:], X33.iloc[1:,1:], X34.iloc[1:,1:], X35.iloc[1:,1:], X36.iloc[1:,1:], X37.iloc[1:,1:], X38.iloc[1:,1:], X39.iloc[1:,1:], X40.iloc[1:,1:],\n",
    "                  X41.iloc[1:,1:], X42.iloc[1:,1:], X43.iloc[1:,1:], X44.iloc[1:,1:], X45.iloc[1:,1:], X46.iloc[1:,1:], X47.iloc[1:,1:], X48.iloc[1:,1:], X49.iloc[1:,1:], X50.iloc[1:,1:],\n",
    "                  X51.iloc[1:,1:], X52.iloc[1:,1:], X53.iloc[1:,1:], X54.iloc[1:,1:], X55.iloc[1:,1:], X56.iloc[1:,1:], X57.iloc[1:,1:], X58.iloc[1:,1:], X59.iloc[1:,1:], X60.iloc[1:,1:]])\n",
    "\n",
    "  normalizer  = X0.abs().max().max()\n",
    "  X = X0/normalizer\n",
    "  return X, y"
   ]
  },
  {
   "cell_type": "code",
   "execution_count": 12,
   "metadata": {
    "id": "aY5C5Jii3KG7",
    "tags": []
   },
   "outputs": [],
   "source": [
    "X, y = get_CwEMW_data()"
   ]
  },
  {
   "cell_type": "code",
   "execution_count": 13,
   "metadata": {
    "colab": {
     "base_uri": "https://localhost:8080/"
    },
    "id": "pfubmdwB5yLt",
    "outputId": "6b0d3bb3-ccdf-41ef-86c9-50c5512ca629",
    "tags": []
   },
   "outputs": [
    {
     "data": {
      "text/plain": [
       "((30000, 624), (30000, 624), (30000, 1))"
      ]
     },
     "execution_count": 13,
     "metadata": {},
     "output_type": "execute_result"
    }
   ],
   "source": [
    "X_train, X_test, y_train, y_test = train_test_split(X, y, test_size=0.5, random_state=42)\n",
    "# let's check the shapes\n",
    "X_train.shape, X_test.shape, y_train.shape"
   ]
  },
  {
   "cell_type": "code",
   "execution_count": 14,
   "metadata": {
    "colab": {
     "base_uri": "https://localhost:8080/"
    },
    "id": "mYs0K7FJphlk",
    "outputId": "e1efa4dc-984e-4493-8100-5f12c54853be",
    "tags": []
   },
   "outputs": [
    {
     "name": "stdout",
     "output_type": "stream",
     "text": [
      "Fitting 5 folds for each of 3 candidates, totalling 15 fits\n",
      "0.8149333333333333\n",
      "{'max_depth': 20, 'n_estimators': 100}\n"
     ]
    }
   ],
   "source": [
    "optimization_dict = {'max_depth': [20,40, 60],'n_estimators': [100]}\n",
    "xgb_model = XGBClassifier()\n",
    "model = GridSearchCV(xgb_model, optimization_dict, scoring='accuracy', verbose=1)\n",
    "\n",
    "model.fit(X_train, y_train)\n",
    "print(model.best_score_)\n",
    "print(model.best_params_)"
   ]
  },
  {
   "cell_type": "code",
   "execution_count": 15,
   "metadata": {
    "id": "RXO8iylWwP8l",
    "tags": []
   },
   "outputs": [],
   "source": [
    "y_pred = model.predict(X_test)"
   ]
  },
  {
   "cell_type": "code",
   "execution_count": 16,
   "metadata": {
    "id": "kFGXtLkJCZYk",
    "tags": []
   },
   "outputs": [
    {
     "name": "stdout",
     "output_type": "stream",
     "text": [
      "              precision    recall  f1-score   support\n",
      "\n",
      "           0       0.89      0.91      0.90      2956\n",
      "           1       0.93      0.97      0.95      3329\n",
      "           2       0.85      0.85      0.85      2920\n",
      "           3       0.79      0.78      0.79      3077\n",
      "           4       0.83      0.80      0.81      2930\n",
      "           5       0.82      0.73      0.77      2767\n",
      "           6       0.84      0.89      0.86      3022\n",
      "           7       0.83      0.85      0.84      3158\n",
      "           8       0.70      0.67      0.69      2856\n",
      "           9       0.71      0.74      0.73      2985\n",
      "\n",
      "    accuracy                           0.82     30000\n",
      "   macro avg       0.82      0.82      0.82     30000\n",
      "weighted avg       0.82      0.82      0.82     30000\n",
      "\n"
     ]
    }
   ],
   "source": [
    "print(classification_report(y_test, y_pred))"
   ]
  },
  {
   "cell_type": "code",
   "execution_count": 17,
   "metadata": {
    "tags": []
   },
   "outputs": [],
   "source": [
    "# best parameters\n",
    "best_params = {\n",
    "    'n_estimators': 624,\n",
    "    'max_depth': 6\n",
    "}"
   ]
  },
  {
   "cell_type": "code",
   "execution_count": 18,
   "metadata": {
    "tags": []
   },
   "outputs": [
    {
     "name": "stdout",
     "output_type": "stream",
     "text": [
      "183.7019319999963\n"
     ]
    }
   ],
   "source": [
    "# Initialize the SVM model with the best parameters\n",
    "model = XGBClassifier(**best_params)\n",
    "\n",
    "tic = timeit.default_timer()\n",
    "model.fit(X_train, y_train)\n",
    "toc = timeit.default_timer()\n",
    "# print training time\n",
    "print(toc-tic)"
   ]
  },
  {
   "cell_type": "code",
   "execution_count": 19,
   "metadata": {
    "tags": []
   },
   "outputs": [],
   "source": [
    "# make predictions\n",
    "y_pred = model.predict(X_test)"
   ]
  },
  {
   "cell_type": "code",
   "execution_count": 20,
   "metadata": {
    "tags": []
   },
   "outputs": [
    {
     "data": {
      "text/plain": [
       "array([[2718,    1,   48,   14,   14,   16,   62,   16,   55,   12],\n",
       "       [   2, 3228,   24,   16,    0,   16,   11,    8,   21,    3],\n",
       "       [  56,   18, 2505,   68,   48,   19,   88,   60,   49,    9],\n",
       "       [  23,   42,  101, 2452,   10,   87,   21,   58,  199,   84],\n",
       "       [   8,   10,   27,    6, 2397,   34,  132,   33,   36,  247],\n",
       "       [  56,   29,   32,  160,   50, 2121,   67,   44,  141,   67],\n",
       "       [  55,   18,   18,    4,   56,   49, 2749,    3,   58,   12],\n",
       "       [  10,   35,   53,   44,   38,   12,    6, 2739,   50,  171],\n",
       "       [  28,   62,   24,  191,   70,  133,   88,   70, 1997,  193],\n",
       "       [  43,   22,   29,   50,  178,   27,   15,  146,  152, 2323]])"
      ]
     },
     "execution_count": 20,
     "metadata": {},
     "output_type": "execute_result"
    }
   ],
   "source": [
    "# let's see the confusion matrix\n",
    "confusion_matrix(y_test, y_pred)"
   ]
  },
  {
   "cell_type": "code",
   "execution_count": 21,
   "metadata": {
    "tags": []
   },
   "outputs": [
    {
     "name": "stdout",
     "output_type": "stream",
     "text": [
      "              precision    recall  f1-score   support\n",
      "\n",
      "           0       0.91      0.92      0.91      2956\n",
      "           1       0.93      0.97      0.95      3329\n",
      "           2       0.88      0.86      0.87      2920\n",
      "           3       0.82      0.80      0.81      3077\n",
      "           4       0.84      0.82      0.83      2930\n",
      "           5       0.84      0.77      0.80      2767\n",
      "           6       0.85      0.91      0.88      3022\n",
      "           7       0.86      0.87      0.86      3158\n",
      "           8       0.72      0.70      0.71      2856\n",
      "           9       0.74      0.78      0.76      2985\n",
      "\n",
      "    accuracy                           0.84     30000\n",
      "   macro avg       0.84      0.84      0.84     30000\n",
      "weighted avg       0.84      0.84      0.84     30000\n",
      "\n"
     ]
    }
   ],
   "source": [
    "# print classification report\n",
    "print(classification_report(y_test, y_pred))"
   ]
  }
 ],
 "metadata": {
  "accelerator": "TPU",
  "colab": {
   "gpuType": "V28",
   "provenance": []
  },
  "kernelspec": {
   "display_name": "Python 3 (ipykernel)",
   "language": "python",
   "name": "python3"
  },
  "language_info": {
   "codemirror_mode": {
    "name": "ipython",
    "version": 3
   },
   "file_extension": ".py",
   "mimetype": "text/x-python",
   "name": "python",
   "nbconvert_exporter": "python",
   "pygments_lexer": "ipython3",
   "version": "3.11.8"
  }
 },
 "nbformat": 4,
 "nbformat_minor": 4
}
