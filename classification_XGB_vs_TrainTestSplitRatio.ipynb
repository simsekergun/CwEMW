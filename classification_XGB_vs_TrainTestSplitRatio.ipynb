{
  "cells": [
    {
      "cell_type": "markdown",
      "metadata": {
        "id": "view-in-github",
        "colab_type": "text"
      },
      "source": [
        "<a href=\"https://colab.research.google.com/github/simsekergun/CwEMW/blob/main/classification_XGB_vs_TrainTestSplitRatio.ipynb\" target=\"_parent\"><img src=\"https://colab.research.google.com/assets/colab-badge.svg\" alt=\"Open In Colab\"/></a>"
      ]
    },
    {
      "cell_type": "code",
      "execution_count": 1,
      "metadata": {
        "tags": [],
        "id": "knw2ZFGQoLsq",
        "outputId": "dffa94e7-5097-48b5-a42f-a4461b3f6aae",
        "colab": {
          "base_uri": "https://localhost:8080/"
        }
      },
      "outputs": [
        {
          "output_type": "stream",
          "name": "stdout",
          "text": [
            "Collecting xgboost\n",
            "  Downloading xgboost-2.1.1-py3-none-manylinux_2_28_x86_64.whl.metadata (2.1 kB)\n",
            "Requirement already satisfied: numpy in /usr/local/lib/python3.10/dist-packages (from xgboost) (1.26.4)\n",
            "Collecting nvidia-nccl-cu12 (from xgboost)\n",
            "  Downloading nvidia_nccl_cu12-2.22.3-py3-none-manylinux2014_x86_64.whl.metadata (1.8 kB)\n",
            "Requirement already satisfied: scipy in /usr/local/lib/python3.10/dist-packages (from xgboost) (1.13.1)\n",
            "Downloading xgboost-2.1.1-py3-none-manylinux_2_28_x86_64.whl (153.9 MB)\n",
            "\u001b[2K   \u001b[90m━━━━━━━━━━━━━━━━━━━━━━━━━━━━━━━━━━━━━━━━\u001b[0m \u001b[32m153.9/153.9 MB\u001b[0m \u001b[31m6.5 MB/s\u001b[0m eta \u001b[36m0:00:00\u001b[0m\n",
            "\u001b[?25hDownloading nvidia_nccl_cu12-2.22.3-py3-none-manylinux2014_x86_64.whl (190.9 MB)\n",
            "\u001b[2K   \u001b[90m━━━━━━━━━━━━━━━━━━━━━━━━━━━━━━━━━━━━━━━━\u001b[0m \u001b[32m190.9/190.9 MB\u001b[0m \u001b[31m5.1 MB/s\u001b[0m eta \u001b[36m0:00:00\u001b[0m\n",
            "\u001b[?25hInstalling collected packages: nvidia-nccl-cu12, xgboost\n",
            "Successfully installed nvidia-nccl-cu12-2.22.3 xgboost-2.1.1\n"
          ]
        }
      ],
      "source": [
        "!pip install xgboost"
      ]
    },
    {
      "cell_type": "code",
      "execution_count": 2,
      "metadata": {
        "id": "VNNazslt3CwH",
        "tags": []
      },
      "outputs": [],
      "source": [
        "# import every we will or we might need\n",
        "import numpy as np\n",
        "import matplotlib.pyplot as plt\n",
        "import pandas as pd\n",
        "from sklearn import metrics\n",
        "from sklearn.model_selection import train_test_split\n",
        "from sklearn.metrics import mean_squared_error\n",
        "from sklearn.metrics import confusion_matrix\n",
        "from sklearn.metrics import classification_report\n",
        "# from google.colab import files\n",
        "import xgboost as xgb\n",
        "from xgboost import XGBClassifier\n",
        "from sklearn.model_selection import GridSearchCV\n",
        "\n",
        "import seaborn as sns\n",
        "import timeit"
      ]
    },
    {
      "cell_type": "code",
      "execution_count": 3,
      "metadata": {
        "id": "dKg812VQ2Ie5",
        "tags": []
      },
      "outputs": [],
      "source": [
        "# X data was large, so it was divided into 60 pieces\n",
        "# call this function to get both X and y\n",
        "def get_CwEMW_data():\n",
        "  y = pd.read_csv('https://raw.githubusercontent.com/simsekergun/CwEMW/main/datasets/Y.csv',header=None)\n",
        "  X01 = pd.read_csv('https://raw.githubusercontent.com/simsekergun/CwEMW/main/datasets/CeEMW01.csv',header=None)\n",
        "  X02 = pd.read_csv('https://raw.githubusercontent.com/simsekergun/CwEMW/main/datasets/CeEMW02.csv',header=None)\n",
        "  X03 = pd.read_csv('https://raw.githubusercontent.com/simsekergun/CwEMW/main/datasets/CeEMW03.csv',header=None)\n",
        "  X04 = pd.read_csv('https://raw.githubusercontent.com/simsekergun/CwEMW/main/datasets/CeEMW04.csv',header=None)\n",
        "  X05 = pd.read_csv('https://raw.githubusercontent.com/simsekergun/CwEMW/main/datasets/CeEMW05.csv',header=None)\n",
        "  X06 = pd.read_csv('https://raw.githubusercontent.com/simsekergun/CwEMW/main/datasets/CeEMW06.csv',header=None)\n",
        "  X07 = pd.read_csv('https://raw.githubusercontent.com/simsekergun/CwEMW/main/datasets/CeEMW07.csv',header=None)\n",
        "  X08 = pd.read_csv('https://raw.githubusercontent.com/simsekergun/CwEMW/main/datasets/CeEMW08.csv',header=None)\n",
        "  X09 = pd.read_csv('https://raw.githubusercontent.com/simsekergun/CwEMW/main/datasets/CeEMW09.csv',header=None)\n",
        "  X10 = pd.read_csv('https://raw.githubusercontent.com/simsekergun/CwEMW/main/datasets/CeEMW10.csv',header=None)\n",
        "  X11 = pd.read_csv('https://raw.githubusercontent.com/simsekergun/CwEMW/main/datasets/CeEMW11.csv',header=None)\n",
        "  X12 = pd.read_csv('https://raw.githubusercontent.com/simsekergun/CwEMW/main/datasets/CeEMW12.csv',header=None)\n",
        "  X13 = pd.read_csv('https://raw.githubusercontent.com/simsekergun/CwEMW/main/datasets/CeEMW13.csv',header=None)\n",
        "  X14 = pd.read_csv('https://raw.githubusercontent.com/simsekergun/CwEMW/main/datasets/CeEMW14.csv',header=None)\n",
        "  X15 = pd.read_csv('https://raw.githubusercontent.com/simsekergun/CwEMW/main/datasets/CeEMW15.csv',header=None)\n",
        "  X16 = pd.read_csv('https://raw.githubusercontent.com/simsekergun/CwEMW/main/datasets/CeEMW16.csv',header=None)\n",
        "  X17 = pd.read_csv('https://raw.githubusercontent.com/simsekergun/CwEMW/main/datasets/CeEMW17.csv',header=None)\n",
        "  X18 = pd.read_csv('https://raw.githubusercontent.com/simsekergun/CwEMW/main/datasets/CeEMW18.csv',header=None)\n",
        "  X19 = pd.read_csv('https://raw.githubusercontent.com/simsekergun/CwEMW/main/datasets/CeEMW19.csv',header=None)\n",
        "  X20 = pd.read_csv('https://raw.githubusercontent.com/simsekergun/CwEMW/main/datasets/CeEMW20.csv',header=None)\n",
        "  X21 = pd.read_csv('https://raw.githubusercontent.com/simsekergun/CwEMW/main/datasets/CeEMW21.csv',header=None)\n",
        "  X22 = pd.read_csv('https://raw.githubusercontent.com/simsekergun/CwEMW/main/datasets/CeEMW22.csv',header=None)\n",
        "  X23 = pd.read_csv('https://raw.githubusercontent.com/simsekergun/CwEMW/main/datasets/CeEMW23.csv',header=None)\n",
        "  X24 = pd.read_csv('https://raw.githubusercontent.com/simsekergun/CwEMW/main/datasets/CeEMW24.csv',header=None)\n",
        "  X25 = pd.read_csv('https://raw.githubusercontent.com/simsekergun/CwEMW/main/datasets/CeEMW25.csv',header=None)\n",
        "  X26 = pd.read_csv('https://raw.githubusercontent.com/simsekergun/CwEMW/main/datasets/CeEMW26.csv',header=None)\n",
        "  X27 = pd.read_csv('https://raw.githubusercontent.com/simsekergun/CwEMW/main/datasets/CeEMW27.csv',header=None)\n",
        "  X28 = pd.read_csv('https://raw.githubusercontent.com/simsekergun/CwEMW/main/datasets/CeEMW28.csv',header=None)\n",
        "  X29 = pd.read_csv('https://raw.githubusercontent.com/simsekergun/CwEMW/main/datasets/CeEMW29.csv',header=None)\n",
        "  X30 = pd.read_csv('https://raw.githubusercontent.com/simsekergun/CwEMW/main/datasets/CeEMW30.csv',header=None)\n",
        "  X31 = pd.read_csv('https://raw.githubusercontent.com/simsekergun/CwEMW/main/datasets/CeEMW31.csv',header=None)\n",
        "  X32 = pd.read_csv('https://raw.githubusercontent.com/simsekergun/CwEMW/main/datasets/CeEMW32.csv',header=None)\n",
        "  X33 = pd.read_csv('https://raw.githubusercontent.com/simsekergun/CwEMW/main/datasets/CeEMW33.csv',header=None)\n",
        "  X34 = pd.read_csv('https://raw.githubusercontent.com/simsekergun/CwEMW/main/datasets/CeEMW34.csv',header=None)\n",
        "  X35 = pd.read_csv('https://raw.githubusercontent.com/simsekergun/CwEMW/main/datasets/CeEMW35.csv',header=None)\n",
        "  X36 = pd.read_csv('https://raw.githubusercontent.com/simsekergun/CwEMW/main/datasets/CeEMW36.csv',header=None)\n",
        "  X37 = pd.read_csv('https://raw.githubusercontent.com/simsekergun/CwEMW/main/datasets/CeEMW37.csv',header=None)\n",
        "  X38 = pd.read_csv('https://raw.githubusercontent.com/simsekergun/CwEMW/main/datasets/CeEMW38.csv',header=None)\n",
        "  X39 = pd.read_csv('https://raw.githubusercontent.com/simsekergun/CwEMW/main/datasets/CeEMW39.csv',header=None)\n",
        "  X40 = pd.read_csv('https://raw.githubusercontent.com/simsekergun/CwEMW/main/datasets/CeEMW40.csv',header=None)\n",
        "  X41 = pd.read_csv('https://raw.githubusercontent.com/simsekergun/CwEMW/main/datasets/CeEMW41.csv',header=None)\n",
        "  X42 = pd.read_csv('https://raw.githubusercontent.com/simsekergun/CwEMW/main/datasets/CeEMW42.csv',header=None)\n",
        "  X43 = pd.read_csv('https://raw.githubusercontent.com/simsekergun/CwEMW/main/datasets/CeEMW43.csv',header=None)\n",
        "  X44 = pd.read_csv('https://raw.githubusercontent.com/simsekergun/CwEMW/main/datasets/CeEMW44.csv',header=None)\n",
        "  X45 = pd.read_csv('https://raw.githubusercontent.com/simsekergun/CwEMW/main/datasets/CeEMW45.csv',header=None)\n",
        "  X46 = pd.read_csv('https://raw.githubusercontent.com/simsekergun/CwEMW/main/datasets/CeEMW46.csv',header=None)\n",
        "  X47 = pd.read_csv('https://raw.githubusercontent.com/simsekergun/CwEMW/main/datasets/CeEMW47.csv',header=None)\n",
        "  X48 = pd.read_csv('https://raw.githubusercontent.com/simsekergun/CwEMW/main/datasets/CeEMW48.csv',header=None)\n",
        "  X49 = pd.read_csv('https://raw.githubusercontent.com/simsekergun/CwEMW/main/datasets/CeEMW49.csv',header=None)\n",
        "  X50 = pd.read_csv('https://raw.githubusercontent.com/simsekergun/CwEMW/main/datasets/CeEMW50.csv',header=None)\n",
        "  X51 = pd.read_csv('https://raw.githubusercontent.com/simsekergun/CwEMW/main/datasets/CeEMW51.csv',header=None)\n",
        "  X52 = pd.read_csv('https://raw.githubusercontent.com/simsekergun/CwEMW/main/datasets/CeEMW52.csv',header=None)\n",
        "  X53 = pd.read_csv('https://raw.githubusercontent.com/simsekergun/CwEMW/main/datasets/CeEMW53.csv',header=None)\n",
        "  X54 = pd.read_csv('https://raw.githubusercontent.com/simsekergun/CwEMW/main/datasets/CeEMW54.csv',header=None)\n",
        "  X55 = pd.read_csv('https://raw.githubusercontent.com/simsekergun/CwEMW/main/datasets/CeEMW55.csv',header=None)\n",
        "  X56 = pd.read_csv('https://raw.githubusercontent.com/simsekergun/CwEMW/main/datasets/CeEMW56.csv',header=None)\n",
        "  X57 = pd.read_csv('https://raw.githubusercontent.com/simsekergun/CwEMW/main/datasets/CeEMW57.csv',header=None)\n",
        "  X58 = pd.read_csv('https://raw.githubusercontent.com/simsekergun/CwEMW/main/datasets/CeEMW58.csv',header=None)\n",
        "  X59 = pd.read_csv('https://raw.githubusercontent.com/simsekergun/CwEMW/main/datasets/CeEMW59.csv',header=None)\n",
        "  X60 = pd.read_csv('https://raw.githubusercontent.com/simsekergun/CwEMW/main/datasets/CeEMW60.csv',header=None)\n",
        "\n",
        "  X0 = pd.concat([X01.iloc[1:,1:], X02.iloc[1:,1:], X03.iloc[1:,1:], X04.iloc[1:,1:], X05.iloc[1:,1:], X06.iloc[1:,1:], X07.iloc[1:,1:], X08.iloc[1:,1:], X09.iloc[1:,1:], X10.iloc[1:,1:],\n",
        "                  X11.iloc[1:,1:], X12.iloc[1:,1:], X13.iloc[1:,1:], X14.iloc[1:,1:], X15.iloc[1:,1:], X16.iloc[1:,1:], X17.iloc[1:,1:], X18.iloc[1:,1:], X19.iloc[1:,1:], X20.iloc[1:,1:],\n",
        "                  X21.iloc[1:,1:], X22.iloc[1:,1:], X23.iloc[1:,1:], X24.iloc[1:,1:], X25.iloc[1:,1:], X26.iloc[1:,1:], X27.iloc[1:,1:], X28.iloc[1:,1:], X29.iloc[1:,1:], X30.iloc[1:,1:],\n",
        "                  X31.iloc[1:,1:], X32.iloc[1:,1:], X33.iloc[1:,1:], X34.iloc[1:,1:], X35.iloc[1:,1:], X36.iloc[1:,1:], X37.iloc[1:,1:], X38.iloc[1:,1:], X39.iloc[1:,1:], X40.iloc[1:,1:],\n",
        "                  X41.iloc[1:,1:], X42.iloc[1:,1:], X43.iloc[1:,1:], X44.iloc[1:,1:], X45.iloc[1:,1:], X46.iloc[1:,1:], X47.iloc[1:,1:], X48.iloc[1:,1:], X49.iloc[1:,1:], X50.iloc[1:,1:],\n",
        "                  X51.iloc[1:,1:], X52.iloc[1:,1:], X53.iloc[1:,1:], X54.iloc[1:,1:], X55.iloc[1:,1:], X56.iloc[1:,1:], X57.iloc[1:,1:], X58.iloc[1:,1:], X59.iloc[1:,1:], X60.iloc[1:,1:]])\n",
        "\n",
        "  normalizer  = X0.abs().max().max()\n",
        "  X = X0/normalizer\n",
        "  return X, y"
      ]
    },
    {
      "cell_type": "code",
      "execution_count": 4,
      "metadata": {
        "id": "aY5C5Jii3KG7",
        "tags": []
      },
      "outputs": [],
      "source": [
        "X, y = get_CwEMW_data()"
      ]
    },
    {
      "cell_type": "code",
      "execution_count": 5,
      "metadata": {
        "id": "pfubmdwB5yLt",
        "tags": []
      },
      "outputs": [],
      "source": [
        "X_train, X_test, y_train, y_test = train_test_split(X, y, test_size=0.5, random_state=42)\n",
        "# let's check the shapes\n",
        "X_train.shape, X_test.shape, y_train.shape\n",
        "y_train = np.ravel(y_train)\n",
        "y_test = np.ravel(y_test)"
      ]
    },
    {
      "cell_type": "code",
      "execution_count": 6,
      "metadata": {
        "tags": [],
        "id": "iSwiyG46oLst"
      },
      "outputs": [],
      "source": [
        "# best parameters\n",
        "best_params = {\n",
        "    'n_estimators': 624,\n",
        "    'max_depth': 6\n",
        "}"
      ]
    },
    {
      "cell_type": "code",
      "execution_count": 7,
      "metadata": {
        "tags": [],
        "id": "hteoEfHvoLst",
        "outputId": "cb1d4a62-3728-4043-e9b6-8b01af62120a",
        "colab": {
          "base_uri": "https://localhost:8080/"
        }
      },
      "outputs": [
        {
          "output_type": "stream",
          "name": "stdout",
          "text": [
            "390.14574395\n"
          ]
        }
      ],
      "source": [
        "# Initialize the XGB model with the best parameters\n",
        "model = XGBClassifier(**best_params)\n",
        "\n",
        "tic = timeit.default_timer()\n",
        "model.fit(X_train, y_train)\n",
        "toc = timeit.default_timer()\n",
        "# print training time\n",
        "print(toc-tic)"
      ]
    },
    {
      "cell_type": "code",
      "execution_count": 8,
      "metadata": {
        "tags": [],
        "id": "Zro2YMEyoLsu"
      },
      "outputs": [],
      "source": [
        "# make predictions\n",
        "y_pred = model.predict(X_test)"
      ]
    },
    {
      "cell_type": "code",
      "execution_count": 9,
      "metadata": {
        "tags": [],
        "id": "EVFA7r4uoLsu",
        "outputId": "4e85be9e-4018-40c1-9bf2-a4926a0682dd",
        "colab": {
          "base_uri": "https://localhost:8080/"
        }
      },
      "outputs": [
        {
          "output_type": "execute_result",
          "data": {
            "text/plain": [
              "array([[2720,    1,   48,   11,   13,   18,   62,   14,   54,   15],\n",
              "       [   0, 3225,   24,   17,    0,   18,   11,    9,   21,    4],\n",
              "       [  57,   18, 2513,   66,   47,   22,   82,   60,   47,    8],\n",
              "       [  23,   42,  100, 2453,   10,   78,   22,   61,  201,   87],\n",
              "       [   9,    9,   29,    5, 2407,   34,  128,   35,   32,  242],\n",
              "       [  53,   28,   31,  164,   49, 2123,   68,   46,  138,   67],\n",
              "       [  54,   18,   15,    3,   59,   52, 2750,    4,   54,   13],\n",
              "       [   7,   36,   54,   46,   37,   14,    5, 2735,   58,  166],\n",
              "       [  26,   62,   20,  193,   71,  135,   85,   73, 2002,  189],\n",
              "       [  42,   21,   32,   49,  174,   29,   13,  144,  147, 2334]])"
            ]
          },
          "metadata": {},
          "execution_count": 9
        }
      ],
      "source": [
        "# let's see the confusion matrix\n",
        "confusion_matrix(y_test, y_pred)"
      ]
    },
    {
      "cell_type": "code",
      "execution_count": 10,
      "metadata": {
        "tags": [],
        "id": "TUJ7CE0ooLsu",
        "outputId": "0de7ce6f-9f7b-4e4b-d51b-b1aad2ea3af4",
        "colab": {
          "base_uri": "https://localhost:8080/"
        }
      },
      "outputs": [
        {
          "output_type": "stream",
          "name": "stdout",
          "text": [
            "              precision    recall  f1-score   support\n",
            "\n",
            "           0       0.91      0.92      0.91      2956\n",
            "           1       0.93      0.97      0.95      3329\n",
            "           2       0.88      0.86      0.87      2920\n",
            "           3       0.82      0.80      0.81      3077\n",
            "           4       0.84      0.82      0.83      2930\n",
            "           5       0.84      0.77      0.80      2767\n",
            "           6       0.85      0.91      0.88      3022\n",
            "           7       0.86      0.87      0.86      3158\n",
            "           8       0.73      0.70      0.71      2856\n",
            "           9       0.75      0.78      0.76      2985\n",
            "\n",
            "    accuracy                           0.84     30000\n",
            "   macro avg       0.84      0.84      0.84     30000\n",
            "weighted avg       0.84      0.84      0.84     30000\n",
            "\n"
          ]
        }
      ],
      "source": [
        "# print classification report\n",
        "print(classification_report(y_test, y_pred))"
      ]
    },
    {
      "cell_type": "code",
      "source": [
        "# 10 % for training\n",
        "X_train, X_test, y_train, y_test = train_test_split(X, y, test_size=0.9, random_state=42)\n",
        "# Initialize the XGB model with the best parameters\n",
        "model = XGBClassifier(**best_params)\n",
        "\n",
        "tic = timeit.default_timer()\n",
        "model.fit(X_train, y_train)\n",
        "toc = timeit.default_timer()\n",
        "# print training time\n",
        "print(toc-tic)\n",
        "# make predictions\n",
        "y_pred = model.predict(X_test)\n",
        "# print classification report\n",
        "print(classification_report(y_test, y_pred))"
      ],
      "metadata": {
        "id": "iCLhIF-boboY",
        "colab": {
          "base_uri": "https://localhost:8080/"
        },
        "outputId": "542d66e7-49a3-4316-dd24-da2bbf758745"
      },
      "execution_count": 11,
      "outputs": [
        {
          "output_type": "stream",
          "name": "stdout",
          "text": [
            "111.33616998299999\n",
            "              precision    recall  f1-score   support\n",
            "\n",
            "           0       0.85      0.88      0.86      5334\n",
            "           1       0.88      0.96      0.92      6068\n",
            "           2       0.81      0.79      0.80      5369\n",
            "           3       0.75      0.74      0.74      5553\n",
            "           4       0.76      0.73      0.75      5258\n",
            "           5       0.76      0.63      0.69      4891\n",
            "           6       0.76      0.84      0.80      5309\n",
            "           7       0.79      0.81      0.80      5642\n",
            "           8       0.62      0.59      0.61      5226\n",
            "           9       0.64      0.65      0.64      5350\n",
            "\n",
            "    accuracy                           0.77     54000\n",
            "   macro avg       0.76      0.76      0.76     54000\n",
            "weighted avg       0.76      0.77      0.76     54000\n",
            "\n"
          ]
        }
      ]
    },
    {
      "cell_type": "code",
      "source": [
        "# 1 % for training\n",
        "X_train, X_test, y_train, y_test = train_test_split(X, y, test_size=0.99, random_state=42)\n",
        "# Initialize the XGB model with the best parameters\n",
        "model = XGBClassifier(**best_params)\n",
        "\n",
        "tic = timeit.default_timer()\n",
        "model.fit(X_train, y_train)\n",
        "toc = timeit.default_timer()\n",
        "# print training time\n",
        "print(toc-tic)\n",
        "# make predictions\n",
        "y_pred = model.predict(X_test)\n",
        "# print classification report\n",
        "print(classification_report(y_test, y_pred))"
      ],
      "metadata": {
        "id": "-dBuW3-Wobta",
        "colab": {
          "base_uri": "https://localhost:8080/"
        },
        "outputId": "d76c0b7c-174a-4f0f-b9c2-fc9824d7ab79"
      },
      "execution_count": 12,
      "outputs": [
        {
          "output_type": "stream",
          "name": "stdout",
          "text": [
            "29.25225932599983\n",
            "              precision    recall  f1-score   support\n",
            "\n",
            "           0       0.75      0.74      0.74      5867\n",
            "           1       0.72      0.91      0.80      6675\n",
            "           2       0.64      0.63      0.63      5895\n",
            "           3       0.58      0.56      0.57      6065\n",
            "           4       0.53      0.46      0.49      5793\n",
            "           5       0.40      0.27      0.32      5370\n",
            "           6       0.51      0.55      0.53      5856\n",
            "           7       0.62      0.59      0.61      6205\n",
            "           8       0.34      0.40      0.37      5783\n",
            "           9       0.41      0.39      0.40      5891\n",
            "\n",
            "    accuracy                           0.56     59400\n",
            "   macro avg       0.55      0.55      0.55     59400\n",
            "weighted avg       0.55      0.56      0.55     59400\n",
            "\n"
          ]
        }
      ]
    }
  ],
  "metadata": {
    "accelerator": "TPU",
    "colab": {
      "gpuType": "V28",
      "provenance": [],
      "include_colab_link": true
    },
    "kernelspec": {
      "display_name": "Python 3 (ipykernel)",
      "language": "python",
      "name": "python3"
    },
    "language_info": {
      "codemirror_mode": {
        "name": "ipython",
        "version": 3
      },
      "file_extension": ".py",
      "mimetype": "text/x-python",
      "name": "python",
      "nbconvert_exporter": "python",
      "pygments_lexer": "ipython3",
      "version": "3.11.8"
    }
  },
  "nbformat": 4,
  "nbformat_minor": 0
}